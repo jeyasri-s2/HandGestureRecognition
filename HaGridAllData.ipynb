{
 "cells": [
  {
   "cell_type": "markdown",
   "metadata": {},
   "source": [
    "# Processing all Folders"
   ]
  },
  {
   "cell_type": "code",
   "execution_count": 2,
   "metadata": {},
   "outputs": [],
   "source": [
    "import os\n",
    "#os.sys.path('/Users/jeyasri/anaconda3/lib/python3.8/site-packages')\n",
    "\n",
    "import sys\n",
    "\n",
    "sys.path.append('/Users/jeyasri/anaconda3/lib/python3.8/site-packages')\n",
    "\n",
    "import json\n",
    "import logging\n",
    "import random\n",
    "from tqdm import tqdm\n",
    "from collections import defaultdict\n",
    "#from typing import Tuple\n",
    "#from glob import glob\n",
    "\n",
    "import pandas as pd\n",
    "import numpy as np\n",
    "\n",
    "from PIL import Image, ImageOps\n",
    "import os\n",
    "from ipywidgets import interact\n",
    "from IPython.display import Image as DImage\n",
    "import cv2\n",
    "import matplotlib.pyplot as plt\n"
   ]
  },
  {
   "cell_type": "code",
   "execution_count": 3,
   "metadata": {},
   "outputs": [],
   "source": [
    "os.mkdir('data2')"
   ]
  },
  {
   "cell_type": "code",
   "execution_count": 15,
   "metadata": {},
   "outputs": [],
   "source": [
    "def extractFromBBox(path,annotation_path, label, max_count=1500):\n",
    "    _LABEL = label\n",
    "    if not os.path.exists(\"data3/\"+_LABEL): os.mkdir(\"data3/\"+_LABEL)\n",
    "        \n",
    "    files = os.listdir(path)\n",
    "    df = pd.read_json(annotation_path).transpose()\n",
    "    count = 0\n",
    "    file_index = 1000\n",
    "    for i ,row in df.iterrows():\n",
    "        #print('i ',i,'  row[0]', row[0])\n",
    "        image_pth = path+i+'.jpg'\n",
    "\n",
    "        if not os.path.exists(image_pth): \n",
    "            continue\n",
    "\n",
    "        image = Image.open(image_pth).convert(\"RGB\")\n",
    "        one_prefix = i #dislike_file.split('.')[0]\n",
    "        #print(row[1])\n",
    "        one_index = 0\n",
    "        if _LABEL in row[1]:\n",
    "            one_index = row[1].index(_LABEL)\n",
    "        else:\n",
    "            continue\n",
    "        bbox = row[0][one_index]  #[0.48372246, 0.51778145, 0.04780773, 0.10586212]\n",
    "        x1, y1, w, h = bbox\n",
    "        width, height = image.size\n",
    "        bbox_abs = [x1 * width, y1 * height, (x1 + w) * width, (y1 + h) * height]\n",
    "        im1 = image.crop(bbox_abs)\n",
    "\n",
    "        #im1.show()\n",
    "        #break\n",
    "        \n",
    "        im1 = im1.save(\"data3/\"+_LABEL+\"/\"+_LABEL+'_'+str(file_index).zfill(4)+\".jpg\") \n",
    "        file_index += 1\n",
    "        count += 1\n",
    "        \n",
    "        if count > max_count: break\n",
    "\n",
    "    print('count ',count)"
   ]
  },
  {
   "cell_type": "code",
   "execution_count": 8,
   "metadata": {},
   "outputs": [
    {
     "data": {
      "text/plain": [
       "['mute',\n",
       " 'ok',\n",
       " 'peace_inverted',\n",
       " 'three2',\n",
       " 'three',\n",
       " 'rock',\n",
       " 'one',\n",
       " 'like',\n",
       " 'call',\n",
       " 'stop_inverted',\n",
       " 'peace',\n",
       " 'two_up_inverted',\n",
       " 'four',\n",
       " 'stop',\n",
       " 'palm',\n",
       " 'fist',\n",
       " 'two_up',\n",
       " 'dislike']"
      ]
     },
     "execution_count": 8,
     "metadata": {},
     "output_type": "execute_result"
    }
   ],
   "source": [
    "labels"
   ]
  },
  {
   "cell_type": "code",
   "execution_count": 16,
   "metadata": {},
   "outputs": [
    {
     "name": "stdout",
     "output_type": "stream",
     "text": [
      "count  1501\n",
      "count  1501\n",
      "count  1501\n",
      "count  1501\n",
      "count  1501\n",
      "count  1501\n",
      "count  1501\n",
      "count  1501\n",
      "count  1501\n",
      "count  1501\n",
      "count  1501\n",
      "count  1501\n",
      "count  1501\n",
      "count  1501\n",
      "count  1501\n",
      "count  1501\n",
      "count  1501\n",
      "count  1501\n"
     ]
    }
   ],
   "source": [
    "annotation_path = '/Users/jeyasri/Downloads/hagrid-sample-30k-384p/ann_train_val/'\n",
    "labels = [json_file.replace('.json','') for json_file in os.listdir(annotation_path) if json_file.endswith('.json')]\n",
    "#labels=['fist','two_up','dislike']\n",
    "for label in labels:\n",
    "    path = '/Users/jeyasri/Downloads/hagrid-sample-30k-384p/hagrid_30k/train_val_'+label+'/'\n",
    "    annotation_path = '/Users/jeyasri/Downloads/hagrid-sample-30k-384p/ann_train_val/'+label+'.json'\n",
    "    extractFromBBox(path,annotation_path, label, max_count=1500)\n",
    "\n"
   ]
  },
  {
   "cell_type": "code",
   "execution_count": 19,
   "metadata": {},
   "outputs": [
    {
     "name": "stdout",
     "output_type": "stream",
     "text": [
      "\u001b[34mcall\u001b[m\u001b[m            \u001b[34mlike\u001b[m\u001b[m            \u001b[34mpalm\u001b[m\u001b[m            \u001b[34mstop\u001b[m\u001b[m            \u001b[34mtwo_up\u001b[m\u001b[m\r\n",
      "\u001b[34mdislike\u001b[m\u001b[m         \u001b[34mmute\u001b[m\u001b[m            \u001b[34mpeace\u001b[m\u001b[m           \u001b[34mstop_inverted\u001b[m\u001b[m   \u001b[34mtwo_up_inverted\u001b[m\u001b[m\r\n",
      "\u001b[34mfist\u001b[m\u001b[m            \u001b[34mok\u001b[m\u001b[m              \u001b[34mpeace_inverted\u001b[m\u001b[m  \u001b[34mthree\u001b[m\u001b[m\r\n",
      "\u001b[34mfour\u001b[m\u001b[m            \u001b[34mone\u001b[m\u001b[m             \u001b[34mrock\u001b[m\u001b[m            \u001b[34mthree2\u001b[m\u001b[m\r\n"
     ]
    }
   ],
   "source": [
    "!ls data3/"
   ]
  },
  {
   "cell_type": "code",
   "execution_count": 11,
   "metadata": {},
   "outputs": [],
   "source": [
    "import shutil"
   ]
  },
  {
   "cell_type": "code",
   "execution_count": 15,
   "metadata": {},
   "outputs": [],
   "source": [
    "src_path = '../MediapipeGestureTraining/data3/fist/'\n",
    "destination_directory = '../MediapipeGestureTraining/data3/mute/'\n",
    "\n",
    "for file in os.listdir(src_path):\n",
    "    shutil.copy(src_path+file, destination_directory)\n"
   ]
  },
  {
   "cell_type": "code",
   "execution_count": 30,
   "metadata": {},
   "outputs": [
    {
     "data": {
      "text/plain": [
       "3002"
      ]
     },
     "execution_count": 30,
     "metadata": {},
     "output_type": "execute_result"
    }
   ],
   "source": [
    "len(os.listdir(destination_directory))"
   ]
  },
  {
   "cell_type": "code",
   "execution_count": 7,
   "metadata": {},
   "outputs": [
    {
     "name": "stdout",
     "output_type": "stream",
     "text": [
      "\u001b[34mcall\u001b[m\u001b[m    \u001b[34mdislike\u001b[m\u001b[m \u001b[34mfist\u001b[m\u001b[m    \u001b[34mlike\u001b[m\u001b[m    \u001b[34mmute\u001b[m\u001b[m    \u001b[34mnone\u001b[m\u001b[m    \u001b[34mok\u001b[m\u001b[m      \u001b[34mrock\u001b[m\u001b[m    \u001b[34mstop\u001b[m\u001b[m\r\n"
     ]
    }
   ],
   "source": [
    "!ls ../MediapipeGestureTraining/data3"
   ]
  },
  {
   "cell_type": "code",
   "execution_count": 16,
   "metadata": {},
   "outputs": [
    {
     "name": "stdout",
     "output_type": "stream",
     "text": [
      "dislike 1501\n",
      "like 1501\n",
      "mute 4503\n",
      "stop 3002\n",
      "call 3003\n",
      "rock 6004\n",
      "none 7505\n"
     ]
    }
   ],
   "source": [
    "dataset_path = '../MediapipeGestureTraining/data3'\n",
    "for folder in os.listdir(dataset_path):\n",
    "  if folder == '.DS_Store': continue\n",
    "  print(folder,len(os.listdir(dataset_path+'/'+folder)))"
   ]
  }
 ],
 "metadata": {
  "kernelspec": {
   "display_name": "Python 3",
   "language": "python",
   "name": "python3"
  },
  "language_info": {
   "codemirror_mode": {
    "name": "ipython",
    "version": 3
   },
   "file_extension": ".py",
   "mimetype": "text/x-python",
   "name": "python",
   "nbconvert_exporter": "python",
   "pygments_lexer": "ipython3",
   "version": "3.8.5"
  }
 },
 "nbformat": 4,
 "nbformat_minor": 4
}
